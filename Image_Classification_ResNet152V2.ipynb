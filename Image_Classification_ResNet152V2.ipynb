{
  "nbformat": 4,
  "nbformat_minor": 0,
  "metadata": {
    "colab": {
      "name": "Image Classification - ResNet152V2.ipynb",
      "provenance": []
    },
    "kernelspec": {
      "name": "python3",
      "display_name": "Python 3"
    },
    "accelerator": "GPU"
  },
  "cells": [
    {
      "cell_type": "code",
      "metadata": {
        "id": "cVhnIJiVi9i8",
        "colab_type": "code",
        "colab": {
          "base_uri": "https://localhost:8080/",
          "height": 224
        },
        "outputId": "ad2191ca-35e9-497f-cec1-a31821b32422"
      },
      "source": [
        "!wget --no-check-certificate \\\n",
        "  https://dicodingacademy.blob.core.windows.net/picodiploma/ml_pengembangan_academy/Chessman-image-dataset.zip \\\n",
        "  -O /tmp/Chessman-image-dataset.zip"
      ],
      "execution_count": 1,
      "outputs": [
        {
          "output_type": "stream",
          "text": [
            "--2020-08-30 13:29:00--  https://dicodingacademy.blob.core.windows.net/picodiploma/ml_pengembangan_academy/Chessman-image-dataset.zip\n",
            "Resolving dicodingacademy.blob.core.windows.net (dicodingacademy.blob.core.windows.net)... 52.239.197.36\n",
            "Connecting to dicodingacademy.blob.core.windows.net (dicodingacademy.blob.core.windows.net)|52.239.197.36|:443... connected.\n",
            "HTTP request sent, awaiting response... 200 OK\n",
            "Length: 60684125 (58M) [application/zip]\n",
            "Saving to: ‘/tmp/Chessman-image-dataset.zip’\n",
            "\n",
            "/tmp/Chessman-image 100%[===================>]  57.87M  12.5MB/s    in 7.4s    \n",
            "\n",
            "2020-08-30 13:29:08 (7.85 MB/s) - ‘/tmp/Chessman-image-dataset.zip’ saved [60684125/60684125]\n",
            "\n"
          ],
          "name": "stdout"
        }
      ]
    },
    {
      "cell_type": "code",
      "metadata": {
        "id": "YcJoWmMUjMuL",
        "colab_type": "code",
        "colab": {}
      },
      "source": [
        "import os\n",
        "import zipfile\n",
        "from tensorflow.keras.preprocessing.image import ImageDataGenerator\n",
        "local_zip = '/tmp/Chessman-image-dataset.zip'\n",
        "zip_ref = zipfile.ZipFile(local_zip, 'r')\n",
        "zip_ref.extractall('/tmp')\n",
        "zip_ref.close()\n",
        "train_dir = os.path.join('/tmp/Chessman-image-dataset/Chess')\n",
        "train_datagen = ImageDataGenerator(rescale=1./255,\n",
        "    rotation_range=20,\n",
        "    zoom_range=0.2,\n",
        "    shear_range=0.2,\n",
        "    fill_mode = 'nearest',\n",
        "    validation_split=0.1) # set validation split"
      ],
      "execution_count": 2,
      "outputs": []
    },
    {
      "cell_type": "code",
      "metadata": {
        "id": "8Gm3mwwmjQlC",
        "colab_type": "code",
        "colab": {
          "base_uri": "https://localhost:8080/",
          "height": 51
        },
        "outputId": "b0429a93-cbf0-4e09-e47d-45171aa2e6b8"
      },
      "source": [
        "train_generator = train_datagen.flow_from_directory(\n",
        "    train_dir,\n",
        "    target_size=(150, 150),\n",
        "    batch_size=8,\n",
        "    class_mode='categorical',\n",
        "    subset='training') # set as training data\n",
        "validation_generator = train_datagen.flow_from_directory(\n",
        "    train_dir, # same directory as training data\n",
        "    target_size=(150, 150),\n",
        "    batch_size=16,\n",
        "    class_mode='categorical',\n",
        "    subset='validation')"
      ],
      "execution_count": 3,
      "outputs": [
        {
          "output_type": "stream",
          "text": [
            "Found 499 images belonging to 6 classes.\n",
            "Found 52 images belonging to 6 classes.\n"
          ],
          "name": "stdout"
        }
      ]
    },
    {
      "cell_type": "code",
      "metadata": {
        "id": "qf87vyZZjTBZ",
        "colab_type": "code",
        "colab": {
          "base_uri": "https://localhost:8080/",
          "height": 71
        },
        "outputId": "3dd61f49-231e-48ac-cfa6-5913f8be7742"
      },
      "source": [
        "import tensorflow as tf\n",
        "from tensorflow.keras.layers import Input\n",
        "from tensorflow.keras.applications import ResNet50\n",
        "from tensorflow.keras.applications import ResNet152V2\n",
        "model = tf.keras.models.Sequential([\n",
        "    ResNet152V2(weights=\"imagenet\", include_top=False, input_tensor=Input(shape=(150, 150, 3))),\n",
        "    # tf.keras.layers.Dropout(0.4),\n",
        "    tf.keras.layers.Flatten(), \n",
        "    tf.keras.layers.Dense(512, activation='relu'),\n",
        "    tf.keras.layers.Dense(256, activation='relu'),\n",
        "    tf.keras.layers.Dense(6, activation='softmax')  \n",
        "])\n",
        "model.layers[0].trainable = False"
      ],
      "execution_count": 4,
      "outputs": [
        {
          "output_type": "stream",
          "text": [
            "Downloading data from https://storage.googleapis.com/tensorflow/keras-applications/resnet/resnet152v2_weights_tf_dim_ordering_tf_kernels_notop.h5\n",
            "234553344/234545216 [==============================] - 1s 0us/step\n"
          ],
          "name": "stdout"
        }
      ]
    },
    {
      "cell_type": "code",
      "metadata": {
        "id": "SRYwCd8IjcTR",
        "colab_type": "code",
        "colab": {}
      },
      "source": [
        "model.compile(optimizer=tf.optimizers.Adam(),\n",
        "              loss='categorical_crossentropy',\n",
        "              metrics = ['accuracy'])"
      ],
      "execution_count": 5,
      "outputs": []
    },
    {
      "cell_type": "code",
      "metadata": {
        "id": "lo_EzTDtjetx",
        "colab_type": "code",
        "colab": {
          "base_uri": "https://localhost:8080/",
          "height": 1000
        },
        "outputId": "392594d2-0187-4108-b02c-419e09efb6b4"
      },
      "source": [
        "history = model.fit(train_generator,\n",
        "                              validation_data=validation_generator,\n",
        "                              epochs=50,\n",
        "                              verbose=2)"
      ],
      "execution_count": 6,
      "outputs": [
        {
          "output_type": "stream",
          "text": [
            "Epoch 1/50\n",
            "63/63 - 14s - loss: 8.4419 - accuracy: 0.4509 - val_loss: 1.6859 - val_accuracy: 0.6538\n",
            "Epoch 2/50\n",
            "63/63 - 11s - loss: 1.3935 - accuracy: 0.7034 - val_loss: 1.9808 - val_accuracy: 0.6538\n",
            "Epoch 3/50\n",
            "63/63 - 11s - loss: 1.3446 - accuracy: 0.7535 - val_loss: 1.3484 - val_accuracy: 0.6923\n",
            "Epoch 4/50\n",
            "63/63 - 11s - loss: 0.9564 - accuracy: 0.8096 - val_loss: 1.0104 - val_accuracy: 0.7115\n",
            "Epoch 5/50\n",
            "63/63 - 11s - loss: 0.9244 - accuracy: 0.7996 - val_loss: 1.1145 - val_accuracy: 0.7115\n",
            "Epoch 6/50\n",
            "63/63 - 11s - loss: 0.7575 - accuracy: 0.8236 - val_loss: 1.0065 - val_accuracy: 0.7500\n",
            "Epoch 7/50\n",
            "63/63 - 11s - loss: 0.5271 - accuracy: 0.8477 - val_loss: 0.6128 - val_accuracy: 0.7500\n",
            "Epoch 8/50\n",
            "63/63 - 11s - loss: 0.4467 - accuracy: 0.8878 - val_loss: 1.2435 - val_accuracy: 0.6731\n",
            "Epoch 9/50\n",
            "63/63 - 11s - loss: 0.5241 - accuracy: 0.8878 - val_loss: 0.8122 - val_accuracy: 0.7885\n",
            "Epoch 10/50\n",
            "63/63 - 11s - loss: 0.5216 - accuracy: 0.8577 - val_loss: 1.1594 - val_accuracy: 0.7308\n",
            "Epoch 11/50\n",
            "63/63 - 11s - loss: 0.5124 - accuracy: 0.8778 - val_loss: 0.5608 - val_accuracy: 0.8077\n",
            "Epoch 12/50\n",
            "63/63 - 11s - loss: 0.4871 - accuracy: 0.8958 - val_loss: 1.1472 - val_accuracy: 0.7308\n",
            "Epoch 13/50\n",
            "63/63 - 11s - loss: 0.6136 - accuracy: 0.8737 - val_loss: 0.9630 - val_accuracy: 0.7885\n",
            "Epoch 14/50\n",
            "63/63 - 11s - loss: 0.3695 - accuracy: 0.9118 - val_loss: 0.6770 - val_accuracy: 0.8269\n",
            "Epoch 15/50\n",
            "63/63 - 11s - loss: 0.3838 - accuracy: 0.9038 - val_loss: 0.6146 - val_accuracy: 0.8077\n",
            "Epoch 16/50\n",
            "63/63 - 11s - loss: 0.3112 - accuracy: 0.9058 - val_loss: 1.1874 - val_accuracy: 0.7692\n",
            "Epoch 17/50\n",
            "63/63 - 11s - loss: 0.3373 - accuracy: 0.9038 - val_loss: 0.9462 - val_accuracy: 0.7885\n",
            "Epoch 18/50\n",
            "63/63 - 11s - loss: 0.3815 - accuracy: 0.9118 - val_loss: 0.7250 - val_accuracy: 0.8654\n",
            "Epoch 19/50\n",
            "63/63 - 11s - loss: 0.1942 - accuracy: 0.9519 - val_loss: 0.5743 - val_accuracy: 0.8846\n",
            "Epoch 20/50\n",
            "63/63 - 11s - loss: 0.3684 - accuracy: 0.9218 - val_loss: 0.9397 - val_accuracy: 0.7692\n",
            "Epoch 21/50\n",
            "63/63 - 11s - loss: 0.3429 - accuracy: 0.9238 - val_loss: 0.6140 - val_accuracy: 0.8462\n",
            "Epoch 22/50\n",
            "63/63 - 11s - loss: 0.2958 - accuracy: 0.9218 - val_loss: 1.1876 - val_accuracy: 0.8077\n",
            "Epoch 23/50\n",
            "63/63 - 11s - loss: 0.3251 - accuracy: 0.9279 - val_loss: 2.0189 - val_accuracy: 0.7885\n",
            "Epoch 24/50\n",
            "63/63 - 11s - loss: 0.2035 - accuracy: 0.9579 - val_loss: 1.0818 - val_accuracy: 0.8077\n",
            "Epoch 25/50\n",
            "63/63 - 10s - loss: 0.2665 - accuracy: 0.9439 - val_loss: 0.8337 - val_accuracy: 0.8846\n",
            "Epoch 26/50\n",
            "63/63 - 11s - loss: 0.1516 - accuracy: 0.9519 - val_loss: 1.0011 - val_accuracy: 0.8077\n",
            "Epoch 27/50\n",
            "63/63 - 10s - loss: 0.0757 - accuracy: 0.9679 - val_loss: 1.4269 - val_accuracy: 0.8462\n",
            "Epoch 28/50\n",
            "63/63 - 10s - loss: 0.1290 - accuracy: 0.9719 - val_loss: 1.9863 - val_accuracy: 0.6731\n",
            "Epoch 29/50\n",
            "63/63 - 11s - loss: 0.1592 - accuracy: 0.9619 - val_loss: 0.6618 - val_accuracy: 0.8462\n",
            "Epoch 30/50\n",
            "63/63 - 11s - loss: 0.1040 - accuracy: 0.9619 - val_loss: 1.3385 - val_accuracy: 0.8077\n",
            "Epoch 31/50\n",
            "63/63 - 10s - loss: 0.2902 - accuracy: 0.9379 - val_loss: 1.3269 - val_accuracy: 0.7115\n",
            "Epoch 32/50\n",
            "63/63 - 10s - loss: 0.2492 - accuracy: 0.9419 - val_loss: 1.1696 - val_accuracy: 0.7500\n",
            "Epoch 33/50\n",
            "63/63 - 10s - loss: 0.0871 - accuracy: 0.9639 - val_loss: 0.9509 - val_accuracy: 0.7885\n",
            "Epoch 34/50\n",
            "63/63 - 10s - loss: 0.0620 - accuracy: 0.9800 - val_loss: 0.5071 - val_accuracy: 0.8846\n",
            "Epoch 35/50\n",
            "63/63 - 10s - loss: 0.0801 - accuracy: 0.9820 - val_loss: 1.5552 - val_accuracy: 0.7500\n",
            "Epoch 36/50\n",
            "63/63 - 11s - loss: 0.1756 - accuracy: 0.9519 - val_loss: 1.2909 - val_accuracy: 0.7500\n",
            "Epoch 37/50\n",
            "63/63 - 11s - loss: 0.0684 - accuracy: 0.9860 - val_loss: 1.2469 - val_accuracy: 0.7885\n",
            "Epoch 38/50\n",
            "63/63 - 11s - loss: 0.1058 - accuracy: 0.9719 - val_loss: 1.2067 - val_accuracy: 0.7885\n",
            "Epoch 39/50\n",
            "63/63 - 11s - loss: 0.0795 - accuracy: 0.9820 - val_loss: 1.1232 - val_accuracy: 0.8654\n",
            "Epoch 40/50\n",
            "63/63 - 11s - loss: 0.1479 - accuracy: 0.9699 - val_loss: 0.9959 - val_accuracy: 0.7885\n",
            "Epoch 41/50\n",
            "63/63 - 11s - loss: 0.1687 - accuracy: 0.9760 - val_loss: 0.9025 - val_accuracy: 0.8462\n",
            "Epoch 42/50\n",
            "63/63 - 10s - loss: 0.4514 - accuracy: 0.9619 - val_loss: 1.6119 - val_accuracy: 0.7500\n",
            "Epoch 43/50\n",
            "63/63 - 10s - loss: 0.3204 - accuracy: 0.9399 - val_loss: 2.7306 - val_accuracy: 0.7115\n",
            "Epoch 44/50\n",
            "63/63 - 11s - loss: 0.5516 - accuracy: 0.9138 - val_loss: 2.5970 - val_accuracy: 0.7115\n",
            "Epoch 45/50\n",
            "63/63 - 10s - loss: 0.3110 - accuracy: 0.9158 - val_loss: 2.5243 - val_accuracy: 0.6923\n",
            "Epoch 46/50\n",
            "63/63 - 11s - loss: 0.1255 - accuracy: 0.9619 - val_loss: 1.5057 - val_accuracy: 0.7308\n",
            "Epoch 47/50\n",
            "63/63 - 11s - loss: 0.0943 - accuracy: 0.9739 - val_loss: 1.0356 - val_accuracy: 0.7500\n",
            "Epoch 48/50\n",
            "63/63 - 10s - loss: 0.2643 - accuracy: 0.9639 - val_loss: 1.7260 - val_accuracy: 0.6923\n",
            "Epoch 49/50\n",
            "63/63 - 11s - loss: 0.4542 - accuracy: 0.9519 - val_loss: 1.5692 - val_accuracy: 0.8269\n",
            "Epoch 50/50\n",
            "63/63 - 11s - loss: 0.1437 - accuracy: 0.9619 - val_loss: 1.4669 - val_accuracy: 0.8077\n"
          ],
          "name": "stdout"
        }
      ]
    }
  ]
}